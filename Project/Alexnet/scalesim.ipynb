{
 "cells": [
  {
   "cell_type": "code",
   "execution_count": 1,
   "metadata": {},
   "outputs": [],
   "source": [
    "from scalesim.scale_sim import scalesim"
   ]
  },
  {
   "cell_type": "code",
   "execution_count": 2,
   "metadata": {},
   "outputs": [],
   "source": [
    "config_path='C:/Users/Madhur/Documents/IITD/COL-719/Project/Alexnet/Config/scale.cfg'\n",
    "topo_path='C:/Users/Madhur/Documents/IITD/COL-719/Project/Alexnet/Config/alexnet.csv'\n",
    "top='./Output'"
   ]
  },
  {
   "cell_type": "code",
   "execution_count": 3,
   "metadata": {},
   "outputs": [
    {
     "name": "stdout",
     "output_type": "stream",
     "text": [
      "====================================================\n",
      "******************* SCALE SIM **********************\n",
      "====================================================\n",
      "Array Size: \t32x32\n",
      "SRAM IFMAP (kB): \t64\n",
      "SRAM Filter (kB): \t64\n",
      "SRAM OFMAP (kB): \t64\n",
      "Dataflow: \tOutput Stationary\n",
      "CSV file path: \t./Config/alexnet.csv\n",
      "Number of Remote Memory Banks: \t1\n",
      "Working in ESTIMATE BANDWIDTH mode.\n",
      "====================================================\n",
      "\n",
      "Running Layer 0\n"
     ]
    },
    {
     "name": "stderr",
     "output_type": "stream",
     "text": [
      "100%|██████████| 121125/121125 [00:33<00:00, 3615.67it/s]\n"
     ]
    },
    {
     "name": "stdout",
     "output_type": "stream",
     "text": [
      "Compute cycles: 121124\n",
      "Stall cycles: 0\n",
      "Overall utilization: 84.99%\n",
      "Mapping efficiency: 99.51%\n",
      "Average IFMAP DRAM BW: 4.439 words/cycle\n",
      "Average Filter DRAM BW: 0.526 words/cycle\n",
      "Average OFMAP DRAM BW: 2.688 words/cycle\n",
      "Saving traces: "
     ]
    },
    {
     "ename": "PermissionError",
     "evalue": "[Errno 13] Permission denied: './Output/AlexNet_32x32_os/layer0/IFMAP_SRAM_TRACE.csv'",
     "output_type": "error",
     "traceback": [
      "\u001b[1;31m---------------------------------------------------------------------------\u001b[0m",
      "\u001b[1;31mPermissionError\u001b[0m                           Traceback (most recent call last)",
      "\u001b[1;32mc:\\Users\\Madhur\\Documents\\IITD\\COL-719\\Project\\Alexnet\\scalesim.ipynb Cell 3\u001b[0m line \u001b[0;36m6\n\u001b[0;32m      <a href='vscode-notebook-cell:/c%3A/Users/Madhur/Documents/IITD/COL-719/Project/Alexnet/scalesim.ipynb#W2sZmlsZQ%3D%3D?line=0'>1</a>\u001b[0m s \u001b[39m=\u001b[39m scalesim(save_disk_space\u001b[39m=\u001b[39m\u001b[39mFalse\u001b[39;00m, verbose\u001b[39m=\u001b[39m\u001b[39mTrue\u001b[39;00m,\n\u001b[0;32m      <a href='vscode-notebook-cell:/c%3A/Users/Madhur/Documents/IITD/COL-719/Project/Alexnet/scalesim.ipynb#W2sZmlsZQ%3D%3D?line=1'>2</a>\u001b[0m               config\u001b[39m=\u001b[39mconfig_path,\n\u001b[0;32m      <a href='vscode-notebook-cell:/c%3A/Users/Madhur/Documents/IITD/COL-719/Project/Alexnet/scalesim.ipynb#W2sZmlsZQ%3D%3D?line=2'>3</a>\u001b[0m               topology\u001b[39m=\u001b[39mtopo_path\n\u001b[0;32m      <a href='vscode-notebook-cell:/c%3A/Users/Madhur/Documents/IITD/COL-719/Project/Alexnet/scalesim.ipynb#W2sZmlsZQ%3D%3D?line=3'>4</a>\u001b[0m               )\n\u001b[1;32m----> <a href='vscode-notebook-cell:/c%3A/Users/Madhur/Documents/IITD/COL-719/Project/Alexnet/scalesim.ipynb#W2sZmlsZQ%3D%3D?line=5'>6</a>\u001b[0m s\u001b[39m.\u001b[39;49mrun_scale(top_path\u001b[39m=\u001b[39;49mtop)\n",
      "File \u001b[1;32mc:\\Users\\Madhur\\AppData\\Local\\Programs\\Python\\Python311\\Lib\\site-packages\\scalesim\\scale_sim.py:84\u001b[0m, in \u001b[0;36mscalesim.run_scale\u001b[1;34m(self, top_path)\u001b[0m\n\u001b[0;32m     76\u001b[0m save_trace \u001b[39m=\u001b[39m \u001b[39mnot\u001b[39;00m \u001b[39mself\u001b[39m\u001b[39m.\u001b[39msave_space\n\u001b[0;32m     77\u001b[0m \u001b[39mself\u001b[39m\u001b[39m.\u001b[39mrunner\u001b[39m.\u001b[39mset_params(\n\u001b[0;32m     78\u001b[0m     config_obj\u001b[39m=\u001b[39m\u001b[39mself\u001b[39m\u001b[39m.\u001b[39mconfig,\n\u001b[0;32m     79\u001b[0m     topo_obj\u001b[39m=\u001b[39m\u001b[39mself\u001b[39m\u001b[39m.\u001b[39mtopo,\n\u001b[1;32m   (...)\u001b[0m\n\u001b[0;32m     82\u001b[0m     save_trace\u001b[39m=\u001b[39msave_trace\n\u001b[0;32m     83\u001b[0m )\n\u001b[1;32m---> 84\u001b[0m \u001b[39mself\u001b[39;49m\u001b[39m.\u001b[39;49mrun_once()\n",
      "File \u001b[1;32mc:\\Users\\Madhur\\AppData\\Local\\Programs\\Python\\Python311\\Lib\\site-packages\\scalesim\\scale_sim.py:103\u001b[0m, in \u001b[0;36mscalesim.run_once\u001b[1;34m(self)\u001b[0m\n\u001b[0;32m     89\u001b[0m     \u001b[39mself\u001b[39m\u001b[39m.\u001b[39mprint_run_configs()\n\u001b[0;32m     91\u001b[0m \u001b[39m#save_trace = not self.save_space\u001b[39;00m\n\u001b[0;32m     92\u001b[0m \n\u001b[0;32m     93\u001b[0m \u001b[39m# TODO: Anand\u001b[39;00m\n\u001b[1;32m   (...)\u001b[0m\n\u001b[0;32m    101\u001b[0m \u001b[39m#    verbosity=self.verbose_flag\u001b[39;00m\n\u001b[0;32m    102\u001b[0m \u001b[39m#)\u001b[39;00m\n\u001b[1;32m--> 103\u001b[0m \u001b[39mself\u001b[39;49m\u001b[39m.\u001b[39;49mrunner\u001b[39m.\u001b[39;49mrun()\n\u001b[0;32m    104\u001b[0m \u001b[39mself\u001b[39m\u001b[39m.\u001b[39mrun_done_flag \u001b[39m=\u001b[39m \u001b[39mTrue\u001b[39;00m\n\u001b[0;32m    106\u001b[0m \u001b[39m#self.runner.generate_all_logs()\u001b[39;00m\n",
      "File \u001b[1;32mc:\\Users\\Madhur\\AppData\\Local\\Programs\\Python\\Python311\\Lib\\site-packages\\scalesim\\simulator.py:103\u001b[0m, in \u001b[0;36msimulator.run\u001b[1;34m(self)\u001b[0m\n\u001b[0;32m    101\u001b[0m \u001b[39mif\u001b[39;00m \u001b[39mself\u001b[39m\u001b[39m.\u001b[39mverbose:\n\u001b[0;32m    102\u001b[0m     \u001b[39mprint\u001b[39m(\u001b[39m'\u001b[39m\u001b[39mSaving traces: \u001b[39m\u001b[39m'\u001b[39m, end\u001b[39m=\u001b[39m\u001b[39m'\u001b[39m\u001b[39m'\u001b[39m)\n\u001b[1;32m--> 103\u001b[0m single_layer_obj\u001b[39m.\u001b[39;49msave_traces(\u001b[39mself\u001b[39;49m\u001b[39m.\u001b[39;49mtop_path)\n\u001b[0;32m    104\u001b[0m \u001b[39mif\u001b[39;00m \u001b[39mself\u001b[39m\u001b[39m.\u001b[39mverbose:\n\u001b[0;32m    105\u001b[0m     \u001b[39mprint\u001b[39m(\u001b[39m'\u001b[39m\u001b[39mDone!\u001b[39m\u001b[39m'\u001b[39m)\n",
      "File \u001b[1;32mc:\\Users\\Madhur\\AppData\\Local\\Programs\\Python\\Python311\\Lib\\site-packages\\scalesim\\single_layer_sim.py:201\u001b[0m, in \u001b[0;36msingle_layer_sim.save_traces\u001b[1;34m(self, top_path)\u001b[0m\n\u001b[0;32m    198\u001b[0m filter_dram_filename \u001b[39m=\u001b[39m dir_name \u001b[39m+\u001b[39m \u001b[39m'\u001b[39m\u001b[39m/FILTER_DRAM_TRACE.csv\u001b[39m\u001b[39m'\u001b[39m\n\u001b[0;32m    199\u001b[0m ofmap_dram_filename \u001b[39m=\u001b[39m dir_name \u001b[39m+\u001b[39m  \u001b[39m'\u001b[39m\u001b[39m/OFMAP_DRAM_TRACE.csv\u001b[39m\u001b[39m'\u001b[39m\n\u001b[1;32m--> 201\u001b[0m \u001b[39mself\u001b[39;49m\u001b[39m.\u001b[39;49mmemory_system\u001b[39m.\u001b[39;49mprint_ifmap_sram_trace(ifmap_sram_filename)\n\u001b[0;32m    202\u001b[0m \u001b[39mself\u001b[39m\u001b[39m.\u001b[39mmemory_system\u001b[39m.\u001b[39mprint_ifmap_dram_trace(ifmap_dram_filename)\n\u001b[0;32m    203\u001b[0m \u001b[39mself\u001b[39m\u001b[39m.\u001b[39mmemory_system\u001b[39m.\u001b[39mprint_filter_sram_trace(filter_sram_filename)\n",
      "File \u001b[1;32mc:\\Users\\Madhur\\AppData\\Local\\Programs\\Python\\Python311\\Lib\\site-packages\\scalesim\\memory\\double_buffered_scratchpad_mem.py:523\u001b[0m, in \u001b[0;36mdouble_buffered_scratchpad.print_ifmap_sram_trace\u001b[1;34m(self, filename)\u001b[0m\n\u001b[0;32m    521\u001b[0m \u001b[39mdef\u001b[39;00m \u001b[39mprint_ifmap_sram_trace\u001b[39m(\u001b[39mself\u001b[39m, filename):\n\u001b[0;32m    522\u001b[0m     \u001b[39massert\u001b[39;00m \u001b[39mself\u001b[39m\u001b[39m.\u001b[39mtraces_valid, \u001b[39m'\u001b[39m\u001b[39mTraces not generated yet\u001b[39m\u001b[39m'\u001b[39m\n\u001b[1;32m--> 523\u001b[0m     np\u001b[39m.\u001b[39;49msavetxt(filename, \u001b[39mself\u001b[39;49m\u001b[39m.\u001b[39;49mifmap_trace_matrix, fmt\u001b[39m=\u001b[39;49m\u001b[39m'\u001b[39;49m\u001b[39m%i\u001b[39;49;00m\u001b[39m'\u001b[39;49m, delimiter\u001b[39m=\u001b[39;49m\u001b[39m\"\u001b[39;49m\u001b[39m,\u001b[39;49m\u001b[39m\"\u001b[39;49m)\n",
      "File \u001b[1;32m<__array_function__ internals>:180\u001b[0m, in \u001b[0;36msavetxt\u001b[1;34m(*args, **kwargs)\u001b[0m\n",
      "File \u001b[1;32mc:\\Users\\Madhur\\AppData\\Local\\Programs\\Python\\Python311\\Lib\\site-packages\\numpy\\lib\\npyio.py:1486\u001b[0m, in \u001b[0;36msavetxt\u001b[1;34m(fname, X, fmt, delimiter, newline, header, footer, comments, encoding)\u001b[0m\n\u001b[0;32m   1483\u001b[0m     fname \u001b[39m=\u001b[39m os_fspath(fname)\n\u001b[0;32m   1484\u001b[0m \u001b[39mif\u001b[39;00m _is_string_like(fname):\n\u001b[0;32m   1485\u001b[0m     \u001b[39m# datasource doesn't support creating a new file ...\u001b[39;00m\n\u001b[1;32m-> 1486\u001b[0m     \u001b[39mopen\u001b[39;49m(fname, \u001b[39m'\u001b[39;49m\u001b[39mwt\u001b[39;49m\u001b[39m'\u001b[39;49m)\u001b[39m.\u001b[39mclose()\n\u001b[0;32m   1487\u001b[0m     fh \u001b[39m=\u001b[39m np\u001b[39m.\u001b[39mlib\u001b[39m.\u001b[39m_datasource\u001b[39m.\u001b[39mopen(fname, \u001b[39m'\u001b[39m\u001b[39mwt\u001b[39m\u001b[39m'\u001b[39m, encoding\u001b[39m=\u001b[39mencoding)\n\u001b[0;32m   1488\u001b[0m     own_fh \u001b[39m=\u001b[39m \u001b[39mTrue\u001b[39;00m\n",
      "\u001b[1;31mPermissionError\u001b[0m: [Errno 13] Permission denied: './Output/AlexNet_32x32_os/layer0/IFMAP_SRAM_TRACE.csv'"
     ]
    }
   ],
   "source": [
    "s = scalesim(save_disk_space=False, verbose=True,\n",
    "              config=config_path,\n",
    "              topology=topo_path\n",
    "              )\n",
    "\n",
    "s.run_scale(top_path=top)"
   ]
  }
 ],
 "metadata": {
  "kernelspec": {
   "display_name": "Python 3",
   "language": "python",
   "name": "python3"
  },
  "language_info": {
   "codemirror_mode": {
    "name": "ipython",
    "version": 3
   },
   "file_extension": ".py",
   "mimetype": "text/x-python",
   "name": "python",
   "nbconvert_exporter": "python",
   "pygments_lexer": "ipython3",
   "version": "3.11.6"
  }
 },
 "nbformat": 4,
 "nbformat_minor": 2
}
